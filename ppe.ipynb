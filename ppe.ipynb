{
  "cells": [
    {
      "cell_type": "markdown",
      "metadata": {
        "id": "view-in-github",
        "colab_type": "text"
      },
      "source": [
        "<a href=\"https://colab.research.google.com/github/itismesam/Projects/blob/main/ppe.ipynb\" target=\"_parent\"><img src=\"https://colab.research.google.com/assets/colab-badge.svg\" alt=\"Open In Colab\"/></a>"
      ]
    },
    {
      "cell_type": "code",
      "source": [
        "!nvidia-smi"
      ],
      "metadata": {
        "id": "E1mTUdxU8KWv"
      },
      "execution_count": null,
      "outputs": []
    },
    {
      "cell_type": "code",
      "source": [
        "!pip install ultralytics"
      ],
      "metadata": {
        "id": "HIqr6WCG8PcA"
      },
      "execution_count": null,
      "outputs": []
    },
    {
      "cell_type": "code",
      "source": [
        "from ultralytics import YOLO"
      ],
      "metadata": {
        "id": "94A6lEe39ZoM"
      },
      "execution_count": 4,
      "outputs": []
    },
    {
      "cell_type": "code",
      "source": [
        "!yolo task=detect mode=predict model=yolov8n.pt conf=0.25 source='1.png'"
      ],
      "metadata": {
        "id": "C5WmQmvs97zi",
        "outputId": "af107df7-1e25-4fa7-ce67-68a0b6d504d2",
        "colab": {
          "base_uri": "https://localhost:8080/"
        }
      },
      "execution_count": 10,
      "outputs": [
        {
          "output_type": "stream",
          "name": "stdout",
          "text": [
            "Ultralytics YOLOv8.0.58 🚀 Python-3.9.16 torch-1.13.1+cu116 CUDA:0 (Tesla T4, 15102MiB)\n",
            "YOLOv8n summary (fused): 168 layers, 3151904 parameters, 0 gradients, 8.7 GFLOPs\n",
            "\n",
            "image 1/1 /content/1.png: 384x640 6 persons, 2 buss, 2 backpacks, 1 handbag, 15.4ms\n",
            "Speed: 0.6ms preprocess, 15.4ms inference, 14.8ms postprocess per image at shape (1, 3, 640, 640)\n"
          ]
        }
      ]
    },
    {
      "cell_type": "code",
      "source": [
        "from google.colab import drive\n",
        "drive.mount('/content/drive')"
      ],
      "metadata": {
        "id": "AAhXo4NDEJgU",
        "outputId": "14834ad9-d7ec-4cfd-c5da-43e57d960b7f",
        "colab": {
          "base_uri": "https://localhost:8080/"
        }
      },
      "execution_count": 11,
      "outputs": [
        {
          "output_type": "stream",
          "name": "stdout",
          "text": [
            "Mounted at /content/drive\n"
          ]
        }
      ]
    },
    {
      "cell_type": "code",
      "source": [
        "!yolo task=detect mode=train model=yolov8n.pt data=../content/drive/MyDrive/Datasets/PPE/data.yaml epochs=20 imgsz=640"
      ],
      "metadata": {
        "id": "1YGtRSLXENIq",
        "outputId": "7d638639-6024-4f6b-b6ca-e595715fe223",
        "colab": {
          "base_uri": "https://localhost:8080/"
        }
      },
      "execution_count": 18,
      "outputs": [
        {
          "output_type": "stream",
          "name": "stdout",
          "text": [
            "Ultralytics YOLOv8.0.58 🚀 Python-3.9.16 torch-1.13.1+cu116 CUDA:0 (Tesla T4, 15102MiB)\n",
            "\u001b[34m\u001b[1myolo/engine/trainer: \u001b[0mtask=detect, mode=train, model=yolov8n.pt, data=../content/drive/MyDrive/Datasets/PPE/data.yaml, epochs=20, patience=50, batch=16, imgsz=640, save=True, save_period=-1, cache=False, device=None, workers=8, project=None, name=None, exist_ok=False, pretrained=False, optimizer=SGD, verbose=True, seed=0, deterministic=True, single_cls=False, image_weights=False, rect=False, cos_lr=False, close_mosaic=10, resume=False, amp=True, overlap_mask=True, mask_ratio=4, dropout=0.0, val=True, split=val, save_json=False, save_hybrid=False, conf=None, iou=0.7, max_det=300, half=False, dnn=False, plots=True, source=None, show=False, save_txt=False, save_conf=False, save_crop=False, hide_labels=False, hide_conf=False, vid_stride=1, line_thickness=3, visualize=False, augment=False, agnostic_nms=False, classes=None, retina_masks=False, boxes=True, format=torchscript, keras=False, optimize=False, int8=False, dynamic=False, simplify=False, opset=None, workspace=4, nms=False, lr0=0.01, lrf=0.01, momentum=0.937, weight_decay=0.0005, warmup_epochs=3.0, warmup_momentum=0.8, warmup_bias_lr=0.1, box=7.5, cls=0.5, dfl=1.5, fl_gamma=0.0, label_smoothing=0.0, nbs=64, hsv_h=0.015, hsv_s=0.7, hsv_v=0.4, degrees=0.0, translate=0.1, scale=0.5, shear=0.0, perspective=0.0, flipud=0.0, fliplr=0.5, mosaic=1.0, mixup=0.0, copy_paste=0.0, cfg=None, v5loader=False, tracker=botsort.yaml, save_dir=runs/detect/train7\n",
            "Traceback (most recent call last):\n",
            "  File \"/usr/local/lib/python3.9/dist-packages/ultralytics/yolo/engine/trainer.py\", line 123, in __init__\n",
            "    self.data = check_det_dataset(self.args.data)\n",
            "  File \"/usr/local/lib/python3.9/dist-packages/ultralytics/yolo/data/utils.py\", line 205, in check_det_dataset\n",
            "    data = yaml_load(data, append_filename=True)  # dictionary\n",
            "  File \"/usr/local/lib/python3.9/dist-packages/ultralytics/yolo/utils/__init__.py\", line 240, in yaml_load\n",
            "    return {**yaml.safe_load(s), 'yaml_file': str(file)} if append_filename else yaml.safe_load(s)\n",
            "  File \"/usr/local/lib/python3.9/dist-packages/yaml/__init__.py\", line 125, in safe_load\n",
            "    return load(stream, SafeLoader)\n",
            "  File \"/usr/local/lib/python3.9/dist-packages/yaml/__init__.py\", line 81, in load\n",
            "    return loader.get_single_data()\n",
            "  File \"/usr/local/lib/python3.9/dist-packages/yaml/constructor.py\", line 49, in get_single_data\n",
            "    node = self.get_single_node()\n",
            "  File \"/usr/local/lib/python3.9/dist-packages/yaml/composer.py\", line 36, in get_single_node\n",
            "    document = self.compose_document()\n",
            "  File \"/usr/local/lib/python3.9/dist-packages/yaml/composer.py\", line 58, in compose_document\n",
            "    self.get_event()\n",
            "  File \"/usr/local/lib/python3.9/dist-packages/yaml/parser.py\", line 118, in get_event\n",
            "    self.current_event = self.state()\n",
            "  File \"/usr/local/lib/python3.9/dist-packages/yaml/parser.py\", line 193, in parse_document_end\n",
            "    token = self.peek_token()\n",
            "  File \"/usr/local/lib/python3.9/dist-packages/yaml/scanner.py\", line 129, in peek_token\n",
            "    self.fetch_more_tokens()\n",
            "  File \"/usr/local/lib/python3.9/dist-packages/yaml/scanner.py\", line 223, in fetch_more_tokens\n",
            "    return self.fetch_value()\n",
            "  File \"/usr/local/lib/python3.9/dist-packages/yaml/scanner.py\", line 577, in fetch_value\n",
            "    raise ScannerError(None, None,\n",
            "yaml.scanner.ScannerError: mapping values are not allowed here\n",
            "  in \"<unicode string>\", line 2, column 6:\n",
            "    train: ../train/images\n",
            "         ^\n",
            "\n",
            "The above exception was the direct cause of the following exception:\n",
            "\n",
            "Traceback (most recent call last):\n",
            "  File \"/usr/local/bin/yolo\", line 8, in <module>\n",
            "    sys.exit(entrypoint())\n",
            "  File \"/usr/local/lib/python3.9/dist-packages/ultralytics/yolo/cfg/__init__.py\", line 318, in entrypoint\n",
            "    getattr(model, mode)(**overrides)  # default args from model\n",
            "  File \"/usr/local/lib/python3.9/dist-packages/ultralytics/yolo/engine/model.py\", line 324, in train\n",
            "    self.trainer = TASK_MAP[self.task][1](overrides=overrides)\n",
            "  File \"/usr/local/lib/python3.9/dist-packages/ultralytics/yolo/engine/trainer.py\", line 127, in __init__\n",
            "    raise RuntimeError(emojis(f\"Dataset '{self.args.data}' error ❌ {e}\")) from e\n",
            "RuntimeError: Dataset '../content/drive/MyDrive/Datasets/PPE/data.yaml' error ❌ mapping values are not allowed here\n",
            "  in \"<unicode string>\", line 2, column 6:\n",
            "    train: ../train/images\n",
            "         ^\n"
          ]
        }
      ]
    },
    {
      "cell_type": "code",
      "source": [],
      "metadata": {
        "id": "sslJ4r58E15-"
      },
      "execution_count": null,
      "outputs": []
    }
  ],
  "metadata": {
    "colab": {
      "name": "Welcome To Colaboratory",
      "provenance": [],
      "include_colab_link": true
    },
    "kernelspec": {
      "display_name": "Python 3",
      "name": "python3"
    },
    "accelerator": "GPU",
    "gpuClass": "standard"
  },
  "nbformat": 4,
  "nbformat_minor": 0
}