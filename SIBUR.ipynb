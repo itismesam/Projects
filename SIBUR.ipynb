{
  "nbformat": 4,
  "nbformat_minor": 0,
  "metadata": {
    "colab": {
      "provenance": [],
      "gpuType": "T4",
      "authorship_tag": "ABX9TyMkIao6OosJ6WKXXV88BXHE",
      "include_colab_link": true
    },
    "kernelspec": {
      "name": "python3",
      "display_name": "Python 3"
    },
    "language_info": {
      "name": "python"
    },
    "accelerator": "GPU"
  },
  "cells": [
    {
      "cell_type": "markdown",
      "metadata": {
        "id": "view-in-github",
        "colab_type": "text"
      },
      "source": [
        "<a href=\"https://colab.research.google.com/github/itismesam/Projects/blob/main/SIBUR.ipynb\" target=\"_parent\"><img src=\"https://colab.research.google.com/assets/colab-badge.svg\" alt=\"Open In Colab\"/></a>"
      ]
    },
    {
      "cell_type": "code",
      "execution_count": null,
      "metadata": {
        "id": "76jDOGw-z5LS"
      },
      "outputs": [],
      "source": [
        "!nvidia-smi"
      ]
    },
    {
      "cell_type": "code",
      "source": [
        "!pip install ultralytics\n"
      ],
      "metadata": {
        "id": "_bx8uPJb0B--"
      },
      "execution_count": null,
      "outputs": []
    },
    {
      "cell_type": "code",
      "source": [
        "from ultralytics import YOLO\n"
      ],
      "metadata": {
        "id": "bOdATyzC2lyA"
      },
      "execution_count": null,
      "outputs": []
    },
    {
      "cell_type": "code",
      "source": [
        "# test yolo\n",
        "!yolo task=detect mode=predict model=yolov8n.pt conf=0.25 source='photo_1.jpg'"
      ],
      "metadata": {
        "id": "3r9SlPoE0QWZ",
        "colab": {
          "base_uri": "https://localhost:8080/"
        },
        "outputId": "6f6bd9c8-57c4-44bb-801a-cd8142ff87c1"
      },
      "execution_count": 6,
      "outputs": [
        {
          "output_type": "stream",
          "name": "stdout",
          "text": [
            "Ultralytics YOLOv8.0.112 🚀 Python-3.10.11 torch-2.0.1+cu118 CUDA:0 (Tesla T4, 15102MiB)\n",
            "YOLOv8n summary (fused): 168 layers, 3151904 parameters, 0 gradients\n",
            "\n",
            "image 1/1 /content/photo_1.jpg: 480x640 (no detections), 87.3ms\n",
            "Speed: 11.4ms preprocess, 87.3ms inference, 4.1ms postprocess per image at shape (1, 3, 640, 640)\n",
            "Results saved to \u001b[1mruns/detect/predict\u001b[0m\n"
          ]
        }
      ]
    },
    {
      "cell_type": "code",
      "source": [
        "from google.colab import drive\n",
        "drive.mount('/content/drive', force_remount=True)"
      ],
      "metadata": {
        "colab": {
          "base_uri": "https://localhost:8080/"
        },
        "id": "rM58v8QQ5QQl",
        "outputId": "10ab81c3-7f61-4da8-8687-bce851f4de83"
      },
      "execution_count": 11,
      "outputs": [
        {
          "output_type": "stream",
          "name": "stdout",
          "text": [
            "Mounted at /content/drive\n"
          ]
        }
      ]
    },
    {
      "cell_type": "code",
      "source": [
        " !yolo task=segment mode=train model= yolov8m-seg.pt data=../content/drive/MyDrive/Datasets/sibur_segmentation/dataset.yaml epochs=30 imgsz=320 batch=2"
      ],
      "metadata": {
        "colab": {
          "base_uri": "https://localhost:8080/"
        },
        "id": "BdMtqNZ05QUC",
        "outputId": "5c7e8908-e099-465a-950c-2ec8b5026474"
      },
      "execution_count": 13,
      "outputs": [
        {
          "output_type": "stream",
          "name": "stdout",
          "text": [
            "Ultralytics YOLOv8.0.112 🚀 Python-3.10.11 torch-2.0.1+cu118 CUDA:0 (Tesla T4, 15102MiB)\n",
            "\u001b[34m\u001b[1myolo/engine/trainer: \u001b[0mtask=segment, mode=train, model=yolov8m-seg.pt, data=../content/drive/MyDrive/Datasets/sibur_segmentation/dataset.yaml, epochs=30, patience=50, batch=2, imgsz=320, save=True, save_period=-1, cache=False, device=None, workers=8, project=None, name=None, exist_ok=False, pretrained=False, optimizer=SGD, verbose=True, seed=0, deterministic=True, single_cls=False, rect=False, cos_lr=False, close_mosaic=0, resume=False, amp=True, fraction=1.0, profile=False, overlap_mask=True, mask_ratio=4, dropout=0.0, val=True, split=val, save_json=False, save_hybrid=False, conf=None, iou=0.7, max_det=300, half=False, dnn=False, plots=True, source=None, show=False, save_txt=False, save_conf=False, save_crop=False, show_labels=True, show_conf=True, vid_stride=1, line_width=None, visualize=False, augment=False, agnostic_nms=False, classes=None, retina_masks=False, boxes=True, format=torchscript, keras=False, optimize=False, int8=False, dynamic=False, simplify=False, opset=None, workspace=4, nms=False, lr0=0.01, lrf=0.01, momentum=0.937, weight_decay=0.0005, warmup_epochs=3.0, warmup_momentum=0.8, warmup_bias_lr=0.1, box=7.5, cls=0.5, dfl=1.5, pose=12.0, kobj=1.0, label_smoothing=0.0, nbs=64, hsv_h=0.015, hsv_s=0.7, hsv_v=0.4, degrees=0.0, translate=0.1, scale=0.5, shear=0.0, perspective=0.0, flipud=0.0, fliplr=0.5, mosaic=1.0, mixup=0.0, copy_paste=0.0, cfg=None, v5loader=False, tracker=botsort.yaml, save_dir=runs/segment/train3\n",
            "Overriding model.yaml nc=80 with nc=2\n",
            "\n",
            "                   from  n    params  module                                       arguments                     \n",
            "  0                  -1  1      1392  ultralytics.nn.modules.conv.Conv             [3, 48, 3, 2]                 \n",
            "  1                  -1  1     41664  ultralytics.nn.modules.conv.Conv             [48, 96, 3, 2]                \n",
            "  2                  -1  2    111360  ultralytics.nn.modules.block.C2f             [96, 96, 2, True]             \n",
            "  3                  -1  1    166272  ultralytics.nn.modules.conv.Conv             [96, 192, 3, 2]               \n",
            "  4                  -1  4    813312  ultralytics.nn.modules.block.C2f             [192, 192, 4, True]           \n",
            "  5                  -1  1    664320  ultralytics.nn.modules.conv.Conv             [192, 384, 3, 2]              \n",
            "  6                  -1  4   3248640  ultralytics.nn.modules.block.C2f             [384, 384, 4, True]           \n",
            "  7                  -1  1   1991808  ultralytics.nn.modules.conv.Conv             [384, 576, 3, 2]              \n",
            "  8                  -1  2   3985920  ultralytics.nn.modules.block.C2f             [576, 576, 2, True]           \n",
            "  9                  -1  1    831168  ultralytics.nn.modules.block.SPPF            [576, 576, 5]                 \n",
            " 10                  -1  1         0  torch.nn.modules.upsampling.Upsample         [None, 2, 'nearest']          \n",
            " 11             [-1, 6]  1         0  ultralytics.nn.modules.conv.Concat           [1]                           \n",
            " 12                  -1  2   1993728  ultralytics.nn.modules.block.C2f             [960, 384, 2]                 \n",
            " 13                  -1  1         0  torch.nn.modules.upsampling.Upsample         [None, 2, 'nearest']          \n",
            " 14             [-1, 4]  1         0  ultralytics.nn.modules.conv.Concat           [1]                           \n",
            " 15                  -1  2    517632  ultralytics.nn.modules.block.C2f             [576, 192, 2]                 \n",
            " 16                  -1  1    332160  ultralytics.nn.modules.conv.Conv             [192, 192, 3, 2]              \n",
            " 17            [-1, 12]  1         0  ultralytics.nn.modules.conv.Concat           [1]                           \n",
            " 18                  -1  2   1846272  ultralytics.nn.modules.block.C2f             [576, 384, 2]                 \n",
            " 19                  -1  1   1327872  ultralytics.nn.modules.conv.Conv             [384, 384, 3, 2]              \n",
            " 20             [-1, 9]  1         0  ultralytics.nn.modules.conv.Concat           [1]                           \n",
            " 21                  -1  2   4207104  ultralytics.nn.modules.block.C2f             [960, 576, 2]                 \n",
            " 22        [15, 18, 21]  1   5160182  ultralytics.nn.modules.head.Segment          [2, 32, 192, [192, 384, 576]] \n",
            "YOLOv8m-seg summary: 331 layers, 27240806 parameters, 27240790 gradients\n",
            "\n",
            "Transferred 531/537 items from pretrained weights\n",
            "\u001b[34m\u001b[1mTensorBoard: \u001b[0mStart with 'tensorboard --logdir runs/segment/train3', view at http://localhost:6006/\n",
            "\u001b[34m\u001b[1mAMP: \u001b[0mrunning Automatic Mixed Precision (AMP) checks with YOLOv8n...\n",
            "\u001b[34m\u001b[1mAMP: \u001b[0mchecks passed ✅\n",
            "\u001b[34m\u001b[1moptimizer:\u001b[0m SGD(lr=0.01) with parameter groups 86 weight(decay=0.0), 97 weight(decay=0.0005), 96 bias\n",
            "\u001b[34m\u001b[1mtrain: \u001b[0mScanning /content/drive/MyDrive/Datasets/sibur_segmentation/train/labels.cache... 21 images, 0 backgrounds, 0 corrupt: 100% 21/21 [00:00<?, ?it/s]\n",
            "\u001b[34m\u001b[1malbumentations: \u001b[0mBlur(p=0.01, blur_limit=(3, 7)), MedianBlur(p=0.01, blur_limit=(3, 7)), ToGray(p=0.01), CLAHE(p=0.01, clip_limit=(1, 4.0), tile_grid_size=(8, 8))\n",
            "\u001b[34m\u001b[1mval: \u001b[0mScanning /content/drive/MyDrive/Datasets/sibur_segmentation/val/labels.cache... 8 images, 0 backgrounds, 0 corrupt: 100% 8/8 [00:00<?, ?it/s]\n",
            "Plotting labels to runs/segment/train3/labels.jpg... \n",
            "Image sizes 320 train, 320 val\n",
            "Using 2 dataloader workers\n",
            "Logging results to \u001b[1mruns/segment/train3\u001b[0m\n",
            "Starting training for 30 epochs...\n",
            "\n",
            "      Epoch    GPU_mem   box_loss   seg_loss   cls_loss   dfl_loss  Instances       Size\n",
            "       1/30     0.866G      1.641      4.756      3.261      1.858          2        320: 100% 11/11 [00:02<00:00,  4.62it/s]\n",
            "/usr/local/lib/python3.10/dist-packages/torch/optim/lr_scheduler.py:139: UserWarning: Detected call of `lr_scheduler.step()` before `optimizer.step()`. In PyTorch 1.1.0 and later, you should call them in the opposite order: `optimizer.step()` before `lr_scheduler.step()`.  Failure to do this will result in PyTorch skipping the first value of the learning rate schedule. See more details at https://pytorch.org/docs/stable/optim.html#how-to-adjust-learning-rate\n",
            "  warnings.warn(\"Detected call of `lr_scheduler.step()` before `optimizer.step()`. \"\n",
            "                 Class     Images  Instances      Box(P          R      mAP50  mAP50-95)     Mask(P          R      mAP50  mAP50-95): 100% 2/2 [00:00<00:00,  2.98it/s]\n",
            "                   all          8         11     0.0052      0.857     0.0136    0.00694    0.00357      0.714     0.0121    0.00389\n",
            "\n",
            "      Epoch    GPU_mem   box_loss   seg_loss   cls_loss   dfl_loss  Instances       Size\n",
            "       2/30      1.01G      1.576      4.094      3.157      1.794          3        320: 100% 11/11 [00:01<00:00,  9.23it/s]\n",
            "                 Class     Images  Instances      Box(P          R      mAP50  mAP50-95)     Mask(P          R      mAP50  mAP50-95): 100% 2/2 [00:00<00:00,  5.09it/s]\n",
            "                   all          8         11    0.00626      0.929     0.0209    0.00976    0.00368      0.714     0.0218    0.00764\n",
            "\n",
            "      Epoch    GPU_mem   box_loss   seg_loss   cls_loss   dfl_loss  Instances       Size\n",
            "       3/30     0.971G      1.687      4.021      3.065      1.887          3        320: 100% 11/11 [00:01<00:00, 10.54it/s]\n",
            "                 Class     Images  Instances      Box(P          R      mAP50  mAP50-95)     Mask(P          R      mAP50  mAP50-95): 100% 2/2 [00:00<00:00,  8.74it/s]\n",
            "                   all          8         11     0.0801     0.0714     0.0434     0.0172      0.122      0.196     0.0441     0.0156\n",
            "\n",
            "      Epoch    GPU_mem   box_loss   seg_loss   cls_loss   dfl_loss  Instances       Size\n",
            "       4/30     0.971G      1.617      4.045      3.134      1.924          5        320: 100% 11/11 [00:01<00:00,  9.39it/s]\n",
            "                 Class     Images  Instances      Box(P          R      mAP50  mAP50-95)     Mask(P          R      mAP50  mAP50-95): 100% 2/2 [00:00<00:00,  7.85it/s]\n",
            "                   all          8         11      0.327      0.196      0.175     0.0645      0.327      0.196      0.155     0.0498\n",
            "\n",
            "      Epoch    GPU_mem   box_loss   seg_loss   cls_loss   dfl_loss  Instances       Size\n",
            "       5/30     0.971G      1.535      4.088      2.818      1.818          3        320: 100% 11/11 [00:01<00:00, 10.10it/s]\n",
            "                 Class     Images  Instances      Box(P          R      mAP50  mAP50-95)     Mask(P          R      mAP50  mAP50-95): 100% 2/2 [00:00<00:00,  9.77it/s]\n",
            "                   all          8         11          1      0.246       0.45      0.146          1      0.246      0.383      0.188\n",
            "\n",
            "      Epoch    GPU_mem   box_loss   seg_loss   cls_loss   dfl_loss  Instances       Size\n",
            "       6/30     0.971G      1.215      3.481      2.301      1.519          5        320: 100% 11/11 [00:01<00:00, 10.02it/s]\n",
            "                 Class     Images  Instances      Box(P          R      mAP50  mAP50-95)     Mask(P          R      mAP50  mAP50-95): 100% 2/2 [00:00<00:00,  7.43it/s]\n",
            "                   all          8         11          1      0.246       0.45      0.146          1      0.246      0.383      0.188\n",
            "\n",
            "      Epoch    GPU_mem   box_loss   seg_loss   cls_loss   dfl_loss  Instances       Size\n",
            "       7/30     0.971G      1.538      3.605      2.498      1.734          3        320: 100% 11/11 [00:01<00:00, 10.12it/s]\n",
            "                 Class     Images  Instances      Box(P          R      mAP50  mAP50-95)     Mask(P          R      mAP50  mAP50-95): 100% 2/2 [00:00<00:00,  8.72it/s]\n",
            "                   all          8         11          1      0.246       0.45      0.146          1      0.246      0.383      0.188\n",
            "\n",
            "      Epoch    GPU_mem   box_loss   seg_loss   cls_loss   dfl_loss  Instances       Size\n",
            "       8/30     0.927G      1.456       3.18      2.667      1.811          1        320: 100% 11/11 [00:01<00:00,  5.82it/s]\n",
            "                 Class     Images  Instances      Box(P          R      mAP50  mAP50-95)     Mask(P          R      mAP50  mAP50-95): 100% 2/2 [00:00<00:00,  5.01it/s]\n",
            "                   all          8         11      0.453      0.589      0.495        0.3      0.453      0.589      0.491      0.245\n",
            "\n",
            "      Epoch    GPU_mem   box_loss   seg_loss   cls_loss   dfl_loss  Instances       Size\n",
            "       9/30     0.929G      1.534      3.208       2.43        1.8          4        320: 100% 11/11 [00:01<00:00, 10.54it/s]\n",
            "                 Class     Images  Instances      Box(P          R      mAP50  mAP50-95)     Mask(P          R      mAP50  mAP50-95): 100% 2/2 [00:00<00:00, 10.07it/s]\n",
            "                   all          8         11      0.453      0.589      0.495        0.3      0.453      0.589      0.491      0.245\n",
            "\n",
            "      Epoch    GPU_mem   box_loss   seg_loss   cls_loss   dfl_loss  Instances       Size\n",
            "      10/30     0.929G      1.348      3.263      2.594      1.669          1        320: 100% 11/11 [00:01<00:00, 10.88it/s]\n",
            "                 Class     Images  Instances      Box(P          R      mAP50  mAP50-95)     Mask(P          R      mAP50  mAP50-95): 100% 2/2 [00:00<00:00,  8.44it/s]\n",
            "                   all          8         11      0.453      0.589      0.495        0.3      0.453      0.589      0.491      0.245\n",
            "\n",
            "      Epoch    GPU_mem   box_loss   seg_loss   cls_loss   dfl_loss  Instances       Size\n",
            "      11/30     0.929G      1.164      2.946      2.026      1.542          5        320: 100% 11/11 [00:01<00:00,  6.29it/s]\n",
            "                 Class     Images  Instances      Box(P          R      mAP50  mAP50-95)     Mask(P          R      mAP50  mAP50-95): 100% 2/2 [00:00<00:00,  4.07it/s]\n",
            "                   all          8         11      0.631      0.623      0.529      0.311      0.631      0.623      0.527      0.263\n",
            "\n",
            "      Epoch    GPU_mem   box_loss   seg_loss   cls_loss   dfl_loss  Instances       Size\n",
            "      12/30     0.929G       1.36      3.216       2.47      1.713          3        320: 100% 11/11 [00:01<00:00, 10.77it/s]\n",
            "                 Class     Images  Instances      Box(P          R      mAP50  mAP50-95)     Mask(P          R      mAP50  mAP50-95): 100% 2/2 [00:00<00:00,  8.55it/s]\n",
            "                   all          8         11      0.631      0.623      0.529      0.311      0.631      0.623      0.527      0.263\n",
            "\n",
            "      Epoch    GPU_mem   box_loss   seg_loss   cls_loss   dfl_loss  Instances       Size\n",
            "      13/30     0.929G      1.409      3.035       2.44      1.719          4        320: 100% 11/11 [00:01<00:00, 10.38it/s]\n",
            "                 Class     Images  Instances      Box(P          R      mAP50  mAP50-95)     Mask(P          R      mAP50  mAP50-95): 100% 2/2 [00:00<00:00, 11.15it/s]\n",
            "                   all          8         11      0.385      0.786       0.48      0.272      0.385      0.786      0.465       0.23\n",
            "\n",
            "      Epoch    GPU_mem   box_loss   seg_loss   cls_loss   dfl_loss  Instances       Size\n",
            "      14/30     0.984G      1.089      2.403      1.956      1.457          1        320: 100% 11/11 [00:01<00:00,  6.64it/s]\n",
            "                 Class     Images  Instances      Box(P          R      mAP50  mAP50-95)     Mask(P          R      mAP50  mAP50-95): 100% 2/2 [00:00<00:00,  5.02it/s]\n",
            "                   all          8         11      0.385      0.786       0.48      0.272      0.385      0.786      0.465       0.23\n",
            "\n",
            "      Epoch    GPU_mem   box_loss   seg_loss   cls_loss   dfl_loss  Instances       Size\n",
            "      15/30     0.984G      1.203      2.973      2.021      1.557          3        320: 100% 11/11 [00:01<00:00, 10.53it/s]\n",
            "                 Class     Images  Instances      Box(P          R      mAP50  mAP50-95)     Mask(P          R      mAP50  mAP50-95): 100% 2/2 [00:00<00:00,  9.71it/s]\n",
            "                   all          8         11      0.385      0.786       0.48      0.272      0.385      0.786      0.465       0.23\n",
            "\n",
            "      Epoch    GPU_mem   box_loss   seg_loss   cls_loss   dfl_loss  Instances       Size\n",
            "      16/30     0.942G      1.374      3.345      2.134      1.771          1        320: 100% 11/11 [00:01<00:00, 10.39it/s]\n",
            "                 Class     Images  Instances      Box(P          R      mAP50  mAP50-95)     Mask(P          R      mAP50  mAP50-95): 100% 2/2 [00:00<00:00, 12.07it/s]\n",
            "                   all          8         11      0.323      0.664      0.378      0.244      0.323      0.664      0.354      0.188\n",
            "\n",
            "      Epoch    GPU_mem   box_loss   seg_loss   cls_loss   dfl_loss  Instances       Size\n",
            "      17/30     0.996G      1.179      3.425      1.762      1.491          4        320: 100% 11/11 [00:01<00:00, 10.86it/s]\n",
            "                 Class     Images  Instances      Box(P          R      mAP50  mAP50-95)     Mask(P          R      mAP50  mAP50-95): 100% 2/2 [00:00<00:00, 12.06it/s]\n",
            "                   all          8         11      0.323      0.664      0.378      0.244      0.323      0.664      0.354      0.188\n",
            "\n",
            "      Epoch    GPU_mem   box_loss   seg_loss   cls_loss   dfl_loss  Instances       Size\n",
            "      18/30     0.996G      1.035      2.357      1.696      1.487          3        320: 100% 11/11 [00:01<00:00,  6.69it/s]\n",
            "                 Class     Images  Instances      Box(P          R      mAP50  mAP50-95)     Mask(P          R      mAP50  mAP50-95): 100% 2/2 [00:00<00:00,  4.94it/s]\n",
            "                   all          8         11      0.323      0.664      0.378      0.244      0.323      0.664      0.354      0.188\n",
            "\n",
            "      Epoch    GPU_mem   box_loss   seg_loss   cls_loss   dfl_loss  Instances       Size\n",
            "      19/30     0.973G      1.101      2.599      1.733      1.494          6        320: 100% 11/11 [00:01<00:00,  7.39it/s]\n",
            "                 Class     Images  Instances      Box(P          R      mAP50  mAP50-95)     Mask(P          R      mAP50  mAP50-95): 100% 2/2 [00:00<00:00,  7.67it/s]\n",
            "                   all          8         11      0.323      0.661      0.388       0.26      0.323      0.661      0.383      0.194\n",
            "\n",
            "      Epoch    GPU_mem   box_loss   seg_loss   cls_loss   dfl_loss  Instances       Size\n",
            "      20/30     0.973G      1.151      2.781      1.667      1.452          3        320: 100% 11/11 [00:00<00:00, 11.03it/s]\n",
            "                 Class     Images  Instances      Box(P          R      mAP50  mAP50-95)     Mask(P          R      mAP50  mAP50-95): 100% 2/2 [00:00<00:00,  9.24it/s]\n",
            "                   all          8         11      0.323      0.661      0.388       0.26      0.323      0.661      0.383      0.194\n",
            "\n",
            "      Epoch    GPU_mem   box_loss   seg_loss   cls_loss   dfl_loss  Instances       Size\n",
            "      21/30     0.975G      1.228      2.771      1.929      1.554          3        320: 100% 11/11 [00:00<00:00, 11.49it/s]\n",
            "                 Class     Images  Instances      Box(P          R      mAP50  mAP50-95)     Mask(P          R      mAP50  mAP50-95): 100% 2/2 [00:00<00:00,  9.67it/s]\n",
            "                   all          8         11      0.323      0.661      0.388       0.26      0.323      0.661      0.383      0.194\n",
            "\n",
            "      Epoch    GPU_mem   box_loss   seg_loss   cls_loss   dfl_loss  Instances       Size\n",
            "      22/30     0.973G     0.9956       2.83      1.611       1.43          4        320: 100% 11/11 [00:01<00:00, 10.87it/s]\n",
            "                 Class     Images  Instances      Box(P          R      mAP50  mAP50-95)     Mask(P          R      mAP50  mAP50-95): 100% 2/2 [00:00<00:00,  8.10it/s]\n",
            "                   all          8         11      0.486      0.892      0.599      0.397      0.486      0.892      0.587       0.32\n",
            "\n",
            "      Epoch    GPU_mem   box_loss   seg_loss   cls_loss   dfl_loss  Instances       Size\n",
            "      23/30     0.975G      1.224      2.865      1.546      1.491          5        320: 100% 11/11 [00:01<00:00,  5.91it/s]\n",
            "                 Class     Images  Instances      Box(P          R      mAP50  mAP50-95)     Mask(P          R      mAP50  mAP50-95): 100% 2/2 [00:00<00:00,  7.46it/s]\n",
            "                   all          8         11      0.486      0.892      0.599      0.397      0.486      0.892      0.587       0.32\n",
            "\n",
            "      Epoch    GPU_mem   box_loss   seg_loss   cls_loss   dfl_loss  Instances       Size\n",
            "      24/30     0.975G      1.088      2.685      1.639      1.478          4        320: 100% 11/11 [00:00<00:00, 11.15it/s]\n",
            "                 Class     Images  Instances      Box(P          R      mAP50  mAP50-95)     Mask(P          R      mAP50  mAP50-95): 100% 2/2 [00:00<00:00, 10.75it/s]\n",
            "                   all          8         11      0.486      0.892      0.599      0.397      0.486      0.892      0.587       0.32\n",
            "\n",
            "      Epoch    GPU_mem   box_loss   seg_loss   cls_loss   dfl_loss  Instances       Size\n",
            "      25/30     0.973G      1.037       2.51      1.672      1.428          6        320: 100% 11/11 [00:01<00:00,  9.59it/s]\n",
            "                 Class     Images  Instances      Box(P          R      mAP50  mAP50-95)     Mask(P          R      mAP50  mAP50-95): 100% 2/2 [00:00<00:00, 10.65it/s]\n",
            "                   all          8         11      0.605      0.798      0.681      0.448      0.605      0.798      0.667      0.343\n",
            "\n",
            "      Epoch    GPU_mem   box_loss   seg_loss   cls_loss   dfl_loss  Instances       Size\n",
            "      26/30     0.975G      1.067      2.556      1.743      1.454          2        320: 100% 11/11 [00:01<00:00,  6.38it/s]\n",
            "                 Class     Images  Instances      Box(P          R      mAP50  mAP50-95)     Mask(P          R      mAP50  mAP50-95): 100% 2/2 [00:00<00:00,  6.60it/s]\n",
            "                   all          8         11      0.605      0.798      0.681      0.448      0.605      0.798      0.667      0.343\n",
            "\n",
            "      Epoch    GPU_mem   box_loss   seg_loss   cls_loss   dfl_loss  Instances       Size\n",
            "      27/30     0.973G     0.9821      3.036      1.708       1.36          1        320: 100% 11/11 [00:01<00:00, 10.09it/s]\n",
            "                 Class     Images  Instances      Box(P          R      mAP50  mAP50-95)     Mask(P          R      mAP50  mAP50-95): 100% 2/2 [00:00<00:00, 10.80it/s]\n",
            "                   all          8         11      0.605      0.798      0.681      0.448      0.605      0.798      0.667      0.343\n",
            "\n",
            "      Epoch    GPU_mem   box_loss   seg_loss   cls_loss   dfl_loss  Instances       Size\n",
            "      28/30     0.975G     0.9798      2.467      1.798      1.351          5        320: 100% 11/11 [00:01<00:00, 10.54it/s]\n",
            "                 Class     Images  Instances      Box(P          R      mAP50  mAP50-95)     Mask(P          R      mAP50  mAP50-95): 100% 2/2 [00:00<00:00, 11.70it/s]\n",
            "                   all          8         11       0.64      0.711      0.755      0.478       0.64      0.711      0.718      0.386\n",
            "\n",
            "      Epoch    GPU_mem   box_loss   seg_loss   cls_loss   dfl_loss  Instances       Size\n",
            "      29/30     0.975G       1.24      2.589      1.695      1.604          2        320: 100% 11/11 [00:01<00:00,  9.25it/s]\n",
            "                 Class     Images  Instances      Box(P          R      mAP50  mAP50-95)     Mask(P          R      mAP50  mAP50-95): 100% 2/2 [00:00<00:00,  7.95it/s]\n",
            "                   all          8         11       0.64      0.711      0.755      0.478       0.64      0.711      0.718      0.386\n",
            "\n",
            "      Epoch    GPU_mem   box_loss   seg_loss   cls_loss   dfl_loss  Instances       Size\n",
            "      30/30     0.975G      1.131      2.384      1.629      1.468          3        320: 100% 11/11 [00:01<00:00, 10.02it/s]\n",
            "                 Class     Images  Instances      Box(P          R      mAP50  mAP50-95)     Mask(P          R      mAP50  mAP50-95): 100% 2/2 [00:00<00:00,  4.58it/s]\n",
            "                   all          8         11       0.64      0.711      0.755      0.478       0.64      0.711      0.718      0.386\n",
            "\n",
            "30 epochs completed in 0.036 hours.\n",
            "Optimizer stripped from runs/segment/train3/weights/last.pt, 54.8MB\n",
            "Optimizer stripped from runs/segment/train3/weights/best.pt, 54.8MB\n",
            "\n",
            "Validating runs/segment/train3/weights/best.pt...\n",
            "Ultralytics YOLOv8.0.112 🚀 Python-3.10.11 torch-2.0.1+cu118 CUDA:0 (Tesla T4, 15102MiB)\n",
            "YOLOv8m-seg summary (fused): 245 layers, 27223542 parameters, 0 gradients\n",
            "                 Class     Images  Instances      Box(P          R      mAP50  mAP50-95)     Mask(P          R      mAP50  mAP50-95): 100% 2/2 [00:00<00:00,  4.27it/s]\n",
            "                   all          8         11       0.64      0.707      0.755      0.478       0.64      0.707      0.717      0.386\n",
            "                bridge          8          7          1      0.663      0.924      0.501          1      0.663      0.849      0.393\n",
            "              carriage          8          4      0.281       0.75      0.586      0.455      0.281       0.75      0.586       0.38\n",
            "Speed: 0.1ms preprocess, 11.4ms inference, 0.0ms loss, 4.2ms postprocess per image\n",
            "Results saved to \u001b[1mruns/segment/train3\u001b[0m\n"
          ]
        }
      ]
    }
  ]
}